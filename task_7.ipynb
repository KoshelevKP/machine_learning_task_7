{
 "cells": [
  {
   "cell_type": "code",
   "execution_count": 307,
   "metadata": {},
   "outputs": [],
   "source": [
    "import numpy as np\n",
    "from sklearn.datasets import make_blobs\n",
    "from sklearn.model_selection import train_test_split\n",
    "from sklearn.metrics import accuracy_score\n",
    "import matplotlib.pyplot as plt\n",
    "%matplotlib inline\n",
    "from math import exp\n",
    "from math import ceil\n",
    "from math import sqrt\n",
    "#from jupyterthemes import jtplot\n",
    "#jtplot.style()"
   ]
  },
  {
   "cell_type": "code",
   "execution_count": 3,
   "metadata": {},
   "outputs": [
    {
     "data": {
      "text/html": [
       "<div>\n",
       "<style scoped>\n",
       "    .dataframe tbody tr th:only-of-type {\n",
       "        vertical-align: middle;\n",
       "    }\n",
       "\n",
       "    .dataframe tbody tr th {\n",
       "        vertical-align: top;\n",
       "    }\n",
       "\n",
       "    .dataframe thead th {\n",
       "        text-align: right;\n",
       "    }\n",
       "</style>\n",
       "<table border=\"1\" class=\"dataframe\">\n",
       "  <thead>\n",
       "    <tr style=\"text-align: right;\">\n",
       "      <th></th>\n",
       "      <th>sepal length (cm)</th>\n",
       "      <th>sepal width (cm)</th>\n",
       "      <th>petal length (cm)</th>\n",
       "      <th>petal width (cm)</th>\n",
       "      <th>target</th>\n",
       "    </tr>\n",
       "  </thead>\n",
       "  <tbody>\n",
       "    <tr>\n",
       "      <th>0</th>\n",
       "      <td>5.1</td>\n",
       "      <td>3.5</td>\n",
       "      <td>1.4</td>\n",
       "      <td>0.2</td>\n",
       "      <td>0</td>\n",
       "    </tr>\n",
       "    <tr>\n",
       "      <th>1</th>\n",
       "      <td>4.9</td>\n",
       "      <td>3.0</td>\n",
       "      <td>1.4</td>\n",
       "      <td>0.2</td>\n",
       "      <td>0</td>\n",
       "    </tr>\n",
       "    <tr>\n",
       "      <th>2</th>\n",
       "      <td>4.7</td>\n",
       "      <td>3.2</td>\n",
       "      <td>1.3</td>\n",
       "      <td>0.2</td>\n",
       "      <td>0</td>\n",
       "    </tr>\n",
       "    <tr>\n",
       "      <th>3</th>\n",
       "      <td>4.6</td>\n",
       "      <td>3.1</td>\n",
       "      <td>1.5</td>\n",
       "      <td>0.2</td>\n",
       "      <td>0</td>\n",
       "    </tr>\n",
       "    <tr>\n",
       "      <th>4</th>\n",
       "      <td>5.0</td>\n",
       "      <td>3.6</td>\n",
       "      <td>1.4</td>\n",
       "      <td>0.2</td>\n",
       "      <td>0</td>\n",
       "    </tr>\n",
       "  </tbody>\n",
       "</table>\n",
       "</div>"
      ],
      "text/plain": [
       "   sepal length (cm)  sepal width (cm)  petal length (cm)  petal width (cm)  \\\n",
       "0                5.1               3.5                1.4               0.2   \n",
       "1                4.9               3.0                1.4               0.2   \n",
       "2                4.7               3.2                1.3               0.2   \n",
       "3                4.6               3.1                1.5               0.2   \n",
       "4                5.0               3.6                1.4               0.2   \n",
       "\n",
       "   target  \n",
       "0       0  \n",
       "1       0  \n",
       "2       0  \n",
       "3       0  \n",
       "4       0  "
      ]
     },
     "execution_count": 3,
     "metadata": {},
     "output_type": "execute_result"
    }
   ],
   "source": [
    "from sklearn import datasets\n",
    "import pandas as pd\n",
    "iris = datasets.load_iris()\n",
    "iris_data = pd.DataFrame(iris.data, columns=iris.feature_names)\n",
    "iris_data['target'] = pd.DataFrame(iris.target)\n",
    "data = iris_data[iris_data['target'] != 2]\n",
    "data.head()"
   ]
  },
  {
   "cell_type": "markdown",
   "metadata": {},
   "source": [
    "$$H(\\theta) = \\theta_1X_1 + \\theta_2X_2 + \\theta_3X_3 + \\theta_4X_4 + \\theta_0$$"
   ]
  },
  {
   "cell_type": "markdown",
   "metadata": {},
   "source": [
    "$$J = \\sum_{i=1}^{N} y_i\\log (h_\\theta(x_i)) + (1 - y_i)\\log(1 - h_\\theta(x_i))$$"
   ]
  },
  {
   "cell_type": "code",
   "execution_count": 273,
   "metadata": {},
   "outputs": [],
   "source": [
    "def grad(X, Y, theta):\n",
    "    \n",
    "    grad = 0\n",
    "    \n",
    "    for i in range(len(Y)):\n",
    "        grad += (Y[i]-sum(X.transpose()[i]*theta))*X.transpose()[i]\n",
    "\n",
    "    return np.array(grad / len(Y))\n",
    "        "
   ]
  },
  {
   "cell_type": "code",
   "execution_count": 296,
   "metadata": {},
   "outputs": [
    {
     "data": {
      "image/png": "[encoded data removed]",
      "text/plain": [
       "<Figure size 432x288 with 1 Axes>"
      ]
     },
     "metadata": {},
     "output_type": "display_data"
    }
   ],
   "source": [
    "X1 = data['sepal length (cm)']\n",
    "X2 = data['sepal width (cm)']\n",
    "X3 = data['petal length (cm)']\n",
    "X4 = data['petal width (cm)']\n",
    "Y = data['target']\n",
    "X = np.array([X1, X2, X3, X4, [1]*len(X1)])\n",
    "#X = np.array([X1, X2, X3, X4])\n",
    "theta1 = 1\n",
    "theta2 = 1\n",
    "theta3 = 1\n",
    "theta4 = 1\n",
    "theta0 = 1.\n",
    "theta = np.array([theta1, theta2, theta3, theta4, theta0])\n",
    "\n",
    "gamma = 0.01\n",
    "grad_data = []\n",
    "theta_data = []\n",
    "\n",
    "for _ in range(100):\n",
    "    grad_data.append(grad(X, Y, theta))\n",
    "    theta_data.append(theta)\n",
    "    theta +=  gamma * grad_data[-1]\n",
    "    \n",
    "plt.plot(grad_data)\n",
    "plt.show()"
   ]
  },
  {
   "cell_type": "code",
   "execution_count": 297,
   "metadata": {},
   "outputs": [
    {
     "data": {
      "text/plain": [
       "0.73"
      ]
     },
     "execution_count": 297,
     "metadata": {},
     "output_type": "execute_result"
    }
   ],
   "source": [
    "Y_head = []\n",
    "for i in range(len(Y)):\n",
    "    if sum(X.transpose()[i]*theta) > 0:\n",
    "        Y_head.append(1)\n",
    "    else:\n",
    "        Y_head.append(0)\n",
    "accuracy_score(Y,Y_head)"
   ]
  },
  {
   "cell_type": "code",
   "execution_count": 304,
   "metadata": {},
   "outputs": [
    {
     "data": {
      "image/png": "[encoded data removed]",
      "text/plain": [
       "<Figure size 432x288 with 1 Axes>"
      ]
     },
     "metadata": {},
     "output_type": "display_data"
    }
   ],
   "source": [
    "X1 = data['sepal length (cm)']\n",
    "X2 = data['sepal width (cm)']\n",
    "X3 = data['petal length (cm)']\n",
    "X4 = data['petal width (cm)']\n",
    "Y = data['target']\n",
    "X = np.array([X1, X2, X3, X4, [1]*len(X1)])\n",
    "#X = np.array([X1, X2, X3, X4])\n",
    "theta1 = 1\n",
    "theta2 = 1\n",
    "theta3 = 1\n",
    "theta4 = 1\n",
    "theta0 = 1.\n",
    "theta = np.array([theta1, theta2, theta3, theta4, theta0])\n",
    "\n",
    "gamma = 0.001\n",
    "grad_data = []\n",
    "theta_data = []\n",
    "V = np.array([0,0,0,0,0])\n",
    "\n",
    "for _ in range(100):\n",
    "    grad_data.append(grad(X, Y, theta))\n",
    "    theta_data.append(theta)\n",
    "    V = 0.9 * V + gamma * grad_data[-1]\n",
    "    theta +=  V\n",
    "\n",
    "plt.plot(grad_data)\n",
    "plt.show()"
   ]
  },
  {
   "cell_type": "code",
   "execution_count": 305,
   "metadata": {},
   "outputs": [
    {
     "data": {
      "text/plain": [
       "0.82"
      ]
     },
     "execution_count": 305,
     "metadata": {},
     "output_type": "execute_result"
    }
   ],
   "source": [
    "Y_head = []\n",
    "for i in range(len(Y)):\n",
    "    if sum(X.transpose()[i]*theta) > 0:\n",
    "        Y_head.append(1)\n",
    "    else:\n",
    "        Y_head.append(0)\n",
    "accuracy_score(Y,Y_head)"
   ]
  },
  {
   "cell_type": "code",
   "execution_count": 324,
   "metadata": {},
   "outputs": [
    {
     "data": {
      "image/png": "[encoded data removed]",
      "text/plain": [
       "<Figure size 432x288 with 1 Axes>"
      ]
     },
     "metadata": {},
     "output_type": "display_data"
    }
   ],
   "source": [
    "X1 = data['sepal length (cm)']\n",
    "X2 = data['sepal width (cm)']\n",
    "X3 = data['petal length (cm)']\n",
    "X4 = data['petal width (cm)']\n",
    "Y = data['target']\n",
    "X = np.array([X1, X2, X3, X4, [1]*len(X1)])\n",
    "#X = np.array([X1, X2, X3, X4])\n",
    "theta1 = 1\n",
    "theta2 = 1\n",
    "theta3 = 1\n",
    "theta4 = 1\n",
    "theta0 = 1.\n",
    "theta = np.array([theta1, theta2, theta3, theta4, theta0])\n",
    "\n",
    "gamma = 0.1\n",
    "grad_data = []\n",
    "theta_data = []\n",
    "G = np.array([0,0,0,0,0])\n",
    "\n",
    "for _ in range(100):\n",
    "    grad_data.append(grad(X, Y, theta))\n",
    "    theta_data.append(theta)\n",
    "    G = 0.9 * G + (1 - 0.4) * grad_data[-1] ** 2\n",
    "    G2 = []\n",
    "    for g in G:\n",
    "        G2.append(sqrt(g))\n",
    "    G2 = np.array(G2)\n",
    "    theta +=  gamma / G2 * grad_data[-1]\n",
    "\n",
    "plt.plot(grad_data)\n",
    "plt.show()"
   ]
  },
  {
   "cell_type": "code",
   "execution_count": 325,
   "metadata": {},
   "outputs": [
    {
     "data": {
      "text/plain": [
       "0.69"
      ]
     },
     "execution_count": 325,
     "metadata": {},
     "output_type": "execute_result"
    }
   ],
   "source": [
    "Y_head = []\n",
    "for i in range(len(Y)):\n",
    "    if sum(X.transpose()[i]*theta) > 0:\n",
    "        Y_head.append(1)\n",
    "    else:\n",
    "        Y_head.append(0)\n",
    "accuracy_score(Y,Y_head)"
   ]
  },
  {
   "cell_type": "code",
   "execution_count": null,
   "metadata": {},
   "outputs": [],
   "source": []
  }
 ],
 "metadata": {
  "kernelspec": {
   "display_name": "Python 3",
   "language": "python",
   "name": "python3"
  },
  "language_info": {
   "codemirror_mode": {
    "name": "ipython",
    "version": 3
   },
   "file_extension": ".py",
   "mimetype": "text/x-python",
   "name": "python",
   "nbconvert_exporter": "python",
   "pygments_lexer": "ipython3",
   "version": "3.6.5"
  }
 },
 "nbformat": 4,
 "nbformat_minor": 2
}
